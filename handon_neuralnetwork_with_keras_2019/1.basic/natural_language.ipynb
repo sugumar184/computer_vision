{
 "cells": [
  {
   "cell_type": "code",
   "execution_count": 1,
   "metadata": {},
   "outputs": [
    {
     "name": "stderr",
     "output_type": "stream",
     "text": [
      "Using TensorFlow backend.\n"
     ]
    }
   ],
   "source": [
    "import keras\n",
    "from keras.datasets import imdb"
   ]
  },
  {
   "cell_type": "code",
   "execution_count": 4,
   "metadata": {},
   "outputs": [],
   "source": [
    "import numpy as np"
   ]
  },
  {
   "cell_type": "code",
   "execution_count": 3,
   "metadata": {},
   "outputs": [
    {
     "name": "stdout",
     "output_type": "stream",
     "text": [
      "Downloading data from https://s3.amazonaws.com/text-datasets/imdb.npz\n",
      "17465344/17464789 [==============================] - 126s 7us/step\n"
     ]
    }
   ],
   "source": [
    "(x_train,y_train),(x_test,y_test) = imdb.load_data(num_words=12000)"
   ]
  },
  {
   "cell_type": "code",
   "execution_count": 7,
   "metadata": {},
   "outputs": [],
   "source": [
    "#x_test.shape\n",
    "#backup labels, so we can verify our networks prediction after vectorization\n",
    "xtrain = x_train\n",
    "xtest = x_test"
   ]
  },
  {
   "cell_type": "code",
   "execution_count": 14,
   "metadata": {},
   "outputs": [],
   "source": [
    "word_index = imdb.get_word_index()\n",
    "reverse_word_index = dict([(value, key) for (key, value) in word_index.items()])"
   ]
  },
  {
   "cell_type": "code",
   "execution_count": 16,
   "metadata": {},
   "outputs": [],
   "source": [
    "def decode_review(n, split= 'train'):\n",
    "    if split=='train':\n",
    "        decoded_review=' '.join([reverse_word_index.get(i-3,'?')for i in \n",
    "                       xtrain[n]])\n",
    "    elif split=='test':\n",
    "        decoded_review=' '.join([reverse_word_index.get(i-3,'?')for i in   \n",
    "                       xtest[n]])\n",
    "    return decoded_review"
   ]
  },
  {
   "cell_type": "code",
   "execution_count": 21,
   "metadata": {},
   "outputs": [
    {
     "name": "stdout",
     "output_type": "stream",
     "text": [
      "[1, 1581, 34, 7908, 5082, 23, 6, 1374, 1120, 7, 107, 349, 2, 1496, 11, 5116, 18, 397, 3767, 7, 4, 107, 84, 6763, 56, 68, 456, 1402, 2, 39, 4, 1374, 9, 35, 204, 5, 55, 4412, 212, 193, 23, 4, 326, 45, 6, 1109, 8, 1738, 2, 15, 29, 199, 1040, 5, 2684, 11, 14, 1403, 212, 1528, 10, 10, 2160, 2, 9, 4, 452, 37, 10101, 4, 598, 425, 5, 45, 4394, 138, 59, 214, 467, 4, 2391, 7, 1738, 2, 19, 41, 2455, 3028, 5, 6866, 1489, 90, 180, 18, 101, 1403, 2, 1514, 5257, 9, 4, 564, 871, 322, 47, 2586, 27, 274, 326, 5, 9, 150, 112, 2, 17, 6, 87, 162, 2133, 60, 3256, 23, 4, 7999, 123, 8, 11, 2, 29, 144, 30, 2961, 1346, 2, 214, 4, 326, 7, 2, 1496, 8, 3767, 533, 7, 134, 2, 6229, 10, 10, 7, 265, 285, 5, 233, 70, 593, 54, 564, 4124, 2, 1625, 27, 1546, 2, 19, 2, 1008, 18, 89, 4, 114, 3209, 5, 45, 1139, 32, 4, 96, 143, 3760, 958, 7, 919, 5, 7611, 367, 4, 96, 17, 73, 17, 6, 52, 855, 7, 836, 10, 10, 18, 2, 7, 328, 212, 14, 31, 9, 5523, 8, 591]\n",
      "? french horror cinema has seen something of a revival over the last couple of years with great films such as inside and ? romance bursting on to the scene ? preceded the revival just slightly but stands head and shoulders over most modern horror titles and is surely one of the best french horror films ever made ? was obviously shot on a low budget but this is made up for in far more ways than one by the originality of the film and this in turn is ? by the excellent writing and acting that ensure the film is a winner the plot focuses on two main ideas prison and black magic the central character is a man named ? sent to prison for fraud he is put in a cell with three others the quietly insane ? body building transvestite marcus and his retarded boyfriend daisy after a short while in the cell together they stumble upon a hiding place in the wall that contains an old ? after ? part of it they soon realise its magical powers and realise they may be able to use it to break through the prison walls br br black magic is a very interesting topic and i'm actually quite surprised that there aren't more films based on it as there's so much scope for things to do with it it's fair to say that ? makes the best of it's ? as despite it's ? the film never actually feels restrained and manages to flow well throughout director eric ? provides a great atmosphere for the film the fact that most of it takes place inside the central prison cell ? that the film feels very claustrophobic and this immensely benefits the central idea of the prisoners wanting to use magic to break out of the cell it's very easy to get behind them it's often said that the unknown is the thing that really ? people and this film proves that as the director ? that we can never really be sure of exactly what is round the corner and this helps to ensure that ? actually does manage to be quite frightening the film is memorable for a lot of reasons outside the central plot the characters are all very interesting in their own way and the fact that the book itself almost takes on its own character is very well done anyone worried that the film won't deliver by the end won't be disappointed either as the ending both makes sense and manages to be quite horrifying overall ? is a truly great horror film and one of the best of the decade highly recommended viewing\n"
     ]
    }
   ],
   "source": [
    "print(x_test[10])\n",
    "print(decode_review(10))"
   ]
  },
  {
   "cell_type": "code",
   "execution_count": null,
   "metadata": {},
   "outputs": [],
   "source": []
  }
 ],
 "metadata": {
  "kernelspec": {
   "display_name": "dl_no",
   "language": "python",
   "name": "dl_no"
  },
  "language_info": {
   "codemirror_mode": {
    "name": "ipython",
    "version": 3
   },
   "file_extension": ".py",
   "mimetype": "text/x-python",
   "name": "python",
   "nbconvert_exporter": "python",
   "pygments_lexer": "ipython3",
   "version": "3.6.8"
  }
 },
 "nbformat": 4,
 "nbformat_minor": 4
}
